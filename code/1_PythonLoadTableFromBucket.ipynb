{
 "cells": [
  {
   "cell_type": "code",
   "execution_count": 1,
   "id": "842b9566-0ba2-4539-9641-6e9331534354",
   "metadata": {},
   "outputs": [
    {
     "name": "stderr",
     "output_type": "stream",
     "text": [
      "/opt/conda/lib/python3.7/site-packages/google/auth/_default.py:78: UserWarning: Your application has authenticated using end user credentials from Google Cloud SDK without a quota project. You might receive a \"quota exceeded\" or \"API not enabled\" error. See the following page for troubleshooting: https://cloud.google.com/docs/authentication/adc-troubleshooting/user-creds. \n",
      "  warnings.warn(_CLOUD_SDK_CREDENTIALS_WARNING)\n",
      "/opt/conda/lib/python3.7/site-packages/google/auth/_default.py:78: UserWarning: Your application has authenticated using end user credentials from Google Cloud SDK without a quota project. You might receive a \"quota exceeded\" or \"API not enabled\" error. See the following page for troubleshooting: https://cloud.google.com/docs/authentication/adc-troubleshooting/user-creds. \n",
      "  warnings.warn(_CLOUD_SDK_CREDENTIALS_WARNING)\n"
     ]
    }
   ],
   "source": [
    "from google.cloud import bigquery\n",
    "from google.cloud.bigquery import LoadJobConfig\n",
    "from google.cloud.bigquery import SchemaField\n",
    "\n",
    "\n",
    "import datetime\n",
    "\n",
    "client = bigquery.Client()\n",
    "dataset_ref = client.dataset('CB_MYSPACE_JDB')"
   ]
  },
  {
   "cell_type": "code",
   "execution_count": 3,
   "id": "05454942-453a-498b-a963-bdf7b94865cb",
   "metadata": {},
   "outputs": [
    {
     "name": "stdout",
     "output_type": "stream",
     "text": [
      "Contacts Loaded 116698 rows.\n"
     ]
    },
    {
     "data": {
      "text/plain": [
       "'2024-05-08 13:28:23.205050'"
      ]
     },
     "execution_count": 3,
     "metadata": {},
     "output_type": "execute_result"
    }
   ],
   "source": [
    "#### Create the table src_bmbc_AdultSocialCare_Contacts\n",
    "\n",
    "schema = [\n",
    "bigquery.SchemaField('digest', 'STRING', mode='NULLABLE'),\n",
    "bigquery.SchemaField('ContactDate', 'STRING', mode='NULLABLE'),\n",
    "bigquery.SchemaField('ContactSource', 'STRING', mode='NULLABLE'),\n",
    "bigquery.SchemaField('ContactRoute', 'STRING', mode='NULLABLE'),\n",
    "bigquery.SchemaField('ContactReason', 'STRING', mode='NULLABLE'),\n",
    "bigquery.SchemaField('ContactOutcome', 'STRING', mode='NULLABLE'),\n",
    "bigquery.SchemaField('IDContact', 'STRING', mode='NULLABLE'),\n",
    "bigquery.SchemaField('MonthAndYearOfBirth', 'STRING', mode='NULLABLE'),\n",
    "bigquery.SchemaField('PostCodeDistrict', 'STRING', mode='NULLABLE'),\n",
    "bigquery.SchemaField('cb_datasetref', 'STRING', mode='NULLABLE'),\n",
    "]\n",
    "\n",
    "table_ref = dataset_ref.table('src_bmbc_AdultSocialCare_Contacts')\n",
    "table = bigquery.Table(table_ref, schema=schema)\n",
    "table = client.create_table(table)  # API request\n",
    "\n",
    "## Loading data for src_DemoGraphics_MASTER\n",
    "\n",
    "#table_ref = client.dataset('dataset_name').table('table_name')\n",
    "\n",
    "load_config = LoadJobConfig()\n",
    "load_config.skip_leading_rows = 2\n",
    "load_config.field_delimiter=\"|\"\n",
    "write_disposition=\"WRITE_APPEND\"\n",
    "load_config.schema = schema\n",
    "uri = 'gs://bucket_autoload/src_bmbc_AdultSocialCare_Contacts.txt'\n",
    "\n",
    "\n",
    "load_job = client.load_table_from_uri(\n",
    "    uri,\n",
    "    table_ref,\n",
    "    job_config=load_config)\n",
    "\n",
    "load_job.result()\n",
    "\n",
    "\n",
    "dt = datetime.datetime.now() # use now() method in datetime.\n",
    "\n",
    "destination_table = client.get_table(table_ref)\n",
    "print('Contacts Loaded {} rows.'.format(destination_table.num_rows))\n",
    "(str (dt) )"
   ]
  },
  {
   "cell_type": "code",
   "execution_count": 7,
   "id": "f4413963-56c7-420a-9307-a2b617e7040d",
   "metadata": {},
   "outputs": [
    {
     "name": "stdout",
     "output_type": "stream",
     "text": [
      "Assessments Loaded 42157 rows.\n"
     ]
    },
    {
     "data": {
      "text/plain": [
       "'2024-05-08 13:31:34.356906'"
      ]
     },
     "execution_count": 7,
     "metadata": {},
     "output_type": "execute_result"
    }
   ],
   "source": [
    "#### Create the table src_bmbc_AdultSocialCare_Assessments\n",
    "\n",
    "schema = [\n",
    "bigquery.SchemaField('digest', 'STRING', mode='NULLABLE'),\n",
    "bigquery.SchemaField('AssessmentDate', 'STRING', mode='NULLABLE'),\n",
    "bigquery.SchemaField('AssessType', 'STRING', mode='NULLABLE'),\n",
    "bigquery.SchemaField('IDAssessment', 'STRING', mode='NULLABLE'),\n",
    "bigquery.SchemaField('MonthAndYearOfBirth', 'STRING', mode='NULLABLE'),\n",
    "bigquery.SchemaField('PostCodeDistrict', 'STRING', mode='NULLABLE'),\n",
    "bigquery.SchemaField('cb_datasetref', 'STRING', mode='NULLABLE'),\n",
    "]\n",
    "\n",
    "table_ref = dataset_ref.table('src_bmbc_AdultSocialCare_Assessments')\n",
    "table = bigquery.Table(table_ref, schema=schema)\n",
    "table = client.create_table(table)  # API request\n",
    "\n",
    "## Loading data for src_DemoGraphics_MASTER\n",
    "\n",
    "#table_ref = client.dataset('dataset_name').table('table_name')\n",
    "\n",
    "load_config = LoadJobConfig()\n",
    "load_config.skip_leading_rows = 2\n",
    "load_config.field_delimiter=\"|\"\n",
    "write_disposition=\"WRITE_APPEND\"\n",
    "load_config.schema = schema\n",
    "uri = 'gs://bucket_autoload/src_bmbc_AdultSocialCare_Assessments.txt'\n",
    "\n",
    "\n",
    "load_job = client.load_table_from_uri(\n",
    "    uri,\n",
    "    table_ref,\n",
    "    job_config=load_config)\n",
    "\n",
    "load_job.result()\n",
    "\n",
    "\n",
    "dt = datetime.datetime.now() # use now() method in datetime.\n",
    "\n",
    "destination_table = client.get_table(table_ref)\n",
    "print('Assessments Loaded {} rows.'.format(destination_table.num_rows))\n",
    "(str (dt) )"
   ]
  },
  {
   "cell_type": "code",
   "execution_count": 5,
   "id": "8ba4359d-1e02-43aa-a0a4-d524bef6e979",
   "metadata": {},
   "outputs": [
    {
     "name": "stdout",
     "output_type": "stream",
     "text": [
      "Assessments Loaded 52035 rows.\n"
     ]
    },
    {
     "data": {
      "text/plain": [
       "'2024-05-08 13:28:43.173479'"
      ]
     },
     "execution_count": 5,
     "metadata": {},
     "output_type": "execute_result"
    }
   ],
   "source": [
    "#### Create the table src_bmbc_AdultSocialCare_Services\n",
    "\n",
    "schema = [\n",
    "bigquery.SchemaField('digest', 'STRING', mode='NULLABLE'),\n",
    "bigquery.SchemaField('ServicestartDate', 'STRING', mode='NULLABLE'),\n",
    "bigquery.SchemaField('ServiceEndDate', 'STRING', mode='NULLABLE'),\n",
    "bigquery.SchemaField('CPLIid', 'STRING', mode='NULLABLE'),\n",
    "bigquery.SchemaField('ServiceType', 'STRING', mode='NULLABLE'),\n",
    "bigquery.SchemaField('FinalisedPSR', 'STRING', mode='NULLABLE'),\n",
    "bigquery.SchemaField('MonthAndYearOfBirth', 'STRING', mode='NULLABLE'),\n",
    "bigquery.SchemaField('PostCodeDistrict', 'STRING', mode='NULLABLE'),\n",
    "bigquery.SchemaField('cb_datasetref', 'STRING', mode='NULLABLE'),\n",
    "]\n",
    "\n",
    "table_ref = dataset_ref.table('src_bmbc_AdultSocialCare_Services')\n",
    "table = bigquery.Table(table_ref, schema=schema)\n",
    "table = client.create_table(table)  # API request\n",
    "\n",
    "## Loading data for src_DemoGraphics_MASTER\n",
    "\n",
    "#table_ref = client.dataset('dataset_name').table('table_name')\n",
    "\n",
    "load_config = LoadJobConfig()\n",
    "load_config.skip_leading_rows = 2\n",
    "load_config.field_delimiter=\"|\"\n",
    "write_disposition=\"WRITE_APPEND\"\n",
    "load_config.schema = schema\n",
    "uri = 'gs://bucket_autoload/src_bmbc_AdultSocialCare_Services.txt'\n",
    "\n",
    "\n",
    "load_job = client.load_table_from_uri(\n",
    "    uri,\n",
    "    table_ref,\n",
    "    job_config=load_config)\n",
    "\n",
    "load_job.result()\n",
    "\n",
    "\n",
    "dt = datetime.datetime.now() # use now() method in datetime.\n",
    "\n",
    "destination_table = client.get_table(table_ref)\n",
    "print('Assessments Loaded {} rows.'.format(destination_table.num_rows))\n",
    "(str (dt) )"
   ]
  },
  {
   "cell_type": "code",
   "execution_count": null,
   "id": "bb470f12-76da-4df1-b69e-282133fa2064",
   "metadata": {},
   "outputs": [],
   "source": []
  }
 ],
 "metadata": {
  "environment": {
   "kernel": "python3",
   "name": "r-cpu.4-2.m110",
   "type": "gcloud",
   "uri": "gcr.io/deeplearning-platform-release/r-cpu.4-2:m110"
  },
  "kernelspec": {
   "display_name": "Python 3",
   "language": "python",
   "name": "python3"
  },
  "language_info": {
   "codemirror_mode": {
    "name": "ipython",
    "version": 3
   },
   "file_extension": ".py",
   "mimetype": "text/x-python",
   "name": "python",
   "nbconvert_exporter": "python",
   "pygments_lexer": "ipython3",
   "version": "3.7.12"
  }
 },
 "nbformat": 4,
 "nbformat_minor": 5
}
