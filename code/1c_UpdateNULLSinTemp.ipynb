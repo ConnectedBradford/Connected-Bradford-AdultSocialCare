{
 "cells": [
  {
   "cell_type": "code",
   "execution_count": 2,
   "id": "e86d5a61-23db-4dd7-b17a-5c78eb4f17cd",
   "metadata": {},
   "outputs": [
    {
     "name": "stderr",
     "output_type": "stream",
     "text": [
      "\n",
      "Attaching package: ‘lubridate’\n",
      "\n",
      "\n",
      "The following objects are masked from ‘package:base’:\n",
      "\n",
      "    date, intersect, setdiff, union\n",
      "\n",
      "\n"
     ]
    }
   ],
   "source": [
    "\n",
    "library(bigrquery)\n",
    "library(lubridate) \n",
    "\n",
    "# Store the project ID\n",
    "project_id = \"yhcr-prd-phm-bia-core\"\n",
    "\n",
    "sourcedb <-\"yhcr-prd-phm-bia-core.CB_MYSPACE_JDB\"\n"
   ]
  },
  {
   "cell_type": "code",
   "execution_count": 4,
   "id": "fbd5a61a-b76e-4076-9753-06b06cab43e3",
   "metadata": {},
   "outputs": [
    {
     "data": {
      "text/html": [
       "<table class=\"dataframe\">\n",
       "<caption>A tibble: 4 × 2</caption>\n",
       "<thead>\n",
       "\t<tr><th scope=col>table_name</th><th scope=col>column_name</th></tr>\n",
       "\t<tr><th scope=col>&lt;chr&gt;</th><th scope=col>&lt;chr&gt;</th></tr>\n",
       "</thead>\n",
       "<tbody>\n",
       "\t<tr><td>src_bmbc_AdultSocialCare_Assessments</td><td>AssessmentDate  </td></tr>\n",
       "\t<tr><td>src_bmbc_AdultSocialCare_Contacts   </td><td>ContactDate     </td></tr>\n",
       "\t<tr><td>src_bmbc_AdultSocialCare_Services   </td><td>ServicestartDate</td></tr>\n",
       "\t<tr><td>src_bmbc_AdultSocialCare_Services   </td><td>ServiceEndDate  </td></tr>\n",
       "</tbody>\n",
       "</table>\n"
      ],
      "text/latex": [
       "A tibble: 4 × 2\n",
       "\\begin{tabular}{ll}\n",
       " table\\_name & column\\_name\\\\\n",
       " <chr> & <chr>\\\\\n",
       "\\hline\n",
       "\t src\\_bmbc\\_AdultSocialCare\\_Assessments & AssessmentDate  \\\\\n",
       "\t src\\_bmbc\\_AdultSocialCare\\_Contacts    & ContactDate     \\\\\n",
       "\t src\\_bmbc\\_AdultSocialCare\\_Services    & ServicestartDate\\\\\n",
       "\t src\\_bmbc\\_AdultSocialCare\\_Services    & ServiceEndDate  \\\\\n",
       "\\end{tabular}\n"
      ],
      "text/markdown": [
       "\n",
       "A tibble: 4 × 2\n",
       "\n",
       "| table_name &lt;chr&gt; | column_name &lt;chr&gt; |\n",
       "|---|---|\n",
       "| src_bmbc_AdultSocialCare_Assessments | AssessmentDate   |\n",
       "| src_bmbc_AdultSocialCare_Contacts    | ContactDate      |\n",
       "| src_bmbc_AdultSocialCare_Services    | ServicestartDate |\n",
       "| src_bmbc_AdultSocialCare_Services    | ServiceEndDate   |\n",
       "\n"
      ],
      "text/plain": [
       "  table_name                           column_name     \n",
       "1 src_bmbc_AdultSocialCare_Assessments AssessmentDate  \n",
       "2 src_bmbc_AdultSocialCare_Contacts    ContactDate     \n",
       "3 src_bmbc_AdultSocialCare_Services    ServicestartDate\n",
       "4 src_bmbc_AdultSocialCare_Services    ServiceEndDate  "
      ]
     },
     "metadata": {},
     "output_type": "display_data"
    }
   ],
   "source": [
    "#Using a loop to make the text nuill into actual nulls\n",
    "#Your loop references this table\n",
    "#You run this to load the list of tables into the dataframe \"table\"\n",
    "\n",
    "sql3 <-paste('select table_name, column_name  from ' ,sourcedb,'.INFORMATION_SCHEMA.COLUMNS where data_type = \"STRING\" \n",
    "and (column_name like \"%Date%\" or column_name like \"%dt%\" or column_name like \"%age%\" or column_name like \"%time%\")  ;', sep = \"\")\n",
    "tb3 <- bq_project_query(project_id, sql3)\n",
    "\n",
    "table <- bq_table_download(tb3)\n",
    "table "
   ]
  },
  {
   "cell_type": "code",
   "execution_count": null,
   "id": "809b1b07-fc64-4fed-8009-d6e01489196f",
   "metadata": {},
   "outputs": [],
   "source": [
    "#Using a loop to make the text nuill into actual nulls\n",
    "#Your loop references this table\n",
    "#You run this to load the list of tables into the dataframe \"table\"\n",
    "# CAULTION - THIS WILL UPDATE ALL NULLS everywhere !! \n",
    "\n",
    "sql3 <-paste('select table_name, column_name  from ' ,sourcedb,'.INFORMATION_SCHEMA.COLUMNS where data_type = \"STRING\" ;', sep = \"\")\n",
    "tb3 <- bq_project_query(project_id, sql3)\n",
    "\n",
    "table <- bq_table_download(tb3)\n",
    "table "
   ]
  },
  {
   "cell_type": "code",
   "execution_count": 5,
   "id": "4b32da8c-6757-465f-805a-e18a89f5ced4",
   "metadata": {},
   "outputs": [
    {
     "name": "stdout",
     "output_type": "stream",
     "text": [
      "[1] \"Done all nulls 2024-05-08 15:03:03.031552\"\n",
      "[1] \"Now open BigQuery and run Make_Staging_Database_Warehouse_FDM_Format\"\n",
      "[1] \"Once complete you can then run 2_Make_Warehouse_FDM_FULL_V1.0.ipynb\"\n"
     ]
    }
   ],
   "source": [
    "#This then loops through the data frame until the end\n",
    "# uses the two variables table[[i, 1]] and table[[i, 2]]\n",
    "# in the query\n",
    "\n",
    "for(i in 2:nrow(table)) \n",
    "{\n",
    "# for-loop over columns\n",
    "#    print(paste0(\"Table: \", table[[i, 1]]))\n",
    "#    print(paste0(\"Table: \", table[[i, 2]]))\n",
    "    temp_sql_query  <-paste('update ' ,sourcedb,'.',table[[i, 1]] ,' set ', table[[i, 2]] ,' = null where ', table[[i, 2]] , ' = \"NULL\"'  , sep = \"\") \n",
    "#    print (temp_sql_query)    \n",
    "    temp_queried_table <- bq_project_query(project_id, temp_sql_query)\n",
    "    #section below just brings this back to R \n",
    "    #temp_table <- bq_table_download(temp_queried_table)\n",
    "\n",
    "    #Prints out a confirmation message for each update\n",
    "    #print(paste0(\"Done: \", table[[1, 1]],' ', table[[1, 2]]))\n",
    "    #cat(\"\\n\")\n",
    "}\n",
    "\n",
    "\n",
    "fred <-paste('Done all nulls ' ,Sys.time() + hours(1), sep = \"\")\n",
    "print (fred)\n"
   ]
  },
  {
   "cell_type": "code",
   "execution_count": null,
   "id": "8d667a48-2f6d-48e3-8373-9aee5163c7f5",
   "metadata": {},
   "outputs": [],
   "source": []
  }
 ],
 "metadata": {
  "environment": {
   "kernel": "ir",
   "name": "r-cpu.4-2.m110",
   "type": "gcloud",
   "uri": "gcr.io/deeplearning-platform-release/r-cpu.4-2:m110"
  },
  "kernelspec": {
   "display_name": "R",
   "language": "R",
   "name": "ir"
  },
  "language_info": {
   "codemirror_mode": "r",
   "file_extension": ".r",
   "mimetype": "text/x-r-source",
   "name": "R",
   "pygments_lexer": "r",
   "version": "4.3.1"
  }
 },
 "nbformat": 4,
 "nbformat_minor": 5
}
