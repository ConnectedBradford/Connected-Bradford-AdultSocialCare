{
 "cells": [
  {
   "cell_type": "code",
   "execution_count": 5,
   "id": "c7c7ba92-02cf-4e4e-975c-d015306525aa",
   "metadata": {},
   "outputs": [
    {
     "name": "stdout",
     "output_type": "stream",
     "text": [
      "[1] \"yhcr-prd-phm-bia-core.CB_MYSPACE_JDB\"\n",
      "[1] \"yhcr-prd-phm-bia-core.CB_STAGING_DATABASE_FDM_Format\"\n",
      "[1] \"yhcr-prd-phm-bia-core.CB_STAGING_DATABASE.src_DemoGraphics_MASTER\"\n",
      "[1] \"Started at 2024-05-08 14:41:51.231098\"\n"
     ]
    }
   ],
   "source": [
    "#2_Make_Staging_Database_Warehouse_FDM_Format \n",
    "\n",
    "library(bigrquery)\n",
    "library(lubridate) \n",
    "\n",
    "project_id = \"yhcr-prd-phm-bia-core\"\n",
    "\n",
    "targetdb <-'yhcr-prd-phm-bia-core.CB_STAGING_DATABASE_FDM_Format'\n",
    "  demodb <-'yhcr-prd-phm-bia-core.CB_STAGING_DATABASE.src_DemoGraphics_MASTER'\n",
    "sourcedb <-'yhcr-prd-phm-bia-core.CB_MYSPACE_JDB'\n",
    "\n",
    "targetdb <-gsub(\" \",'',targetdb)\n",
    "sourcedb <-gsub(\" \",'',sourcedb)\n",
    "  demodb <-gsub(\" \",'',demodb)\n",
    "\n",
    "\n",
    "print (sourcedb) \n",
    "print (targetdb)\n",
    "print (demodb)\n",
    "\n",
    "#example script\n",
    "\n",
    "eric <- paste(\"Started at \"  ,Sys.time() + hours(1) ,sep = \"\")\n",
    "print(eric) "
   ]
  },
  {
   "cell_type": "code",
   "execution_count": 4,
   "id": "8b2fee3b-768c-42c7-9710-fb2aa4f5e1c3",
   "metadata": {},
   "outputs": [],
   "source": [
    "sql3 <-paste('delete from  `yhcr-prd-phm-bia-core.CB_STAGING_DATABASE.src_bmbc_AdultSocialCare_Contacts` \n",
    "where length(digest) <64', sep = \"\") \n",
    "tb3 <- bq_project_query(project_id, sql3)\n",
    "\n",
    "sql4 <-paste('delete from  `yhcr-prd-phm-bia-core.CB_STAGING_DATABASE.src_bmbc_AdultSocialCare_Assessments` \n",
    "where length(digest) <64', sep = \"\") \n",
    "tb4 <- bq_project_query(project_id, sql4)\n",
    "\n",
    "sql5 <-paste('delete from  `yhcr-prd-phm-bia-core.CB_STAGING_DATABASE.src_bmbc_AdultSocialCare_Services` \n",
    "where length(digest) <64', sep = \"\") \n",
    "tb5 <- bq_project_query(project_id, sql5)\n"
   ]
  },
  {
   "cell_type": "code",
   "execution_count": 9,
   "id": "3ed925a2-86e5-4f41-ac36-27c7befe5daa",
   "metadata": {},
   "outputs": [
    {
     "name": "stdout",
     "output_type": "stream",
     "text": [
      "[1] \" contacts Completed 2024-05-08 14:43:12.934441\"\n"
     ]
    }
   ],
   "source": [
    "sql3 <-paste('drop table if exists ', targetdb,'.tbl_adultsocialcare_contacts; ', sep = \"\") \n",
    "tb3 <- bq_project_query(project_id, sql3)\n",
    "\n",
    "sql4 <-paste('CREATE  TABLE ', targetdb,'.tbl_adultsocialcare_contacts\n",
    "as \n",
    "select \n",
    "dem.person_id,\n",
    "cast(substring(ContactDate,7,4)||\"-\"||substring(ContactDate,4,2)||\"-\"|| substring(ContactDate,1,2)||\" 00:00:00\" as datetime)  as tbl_adultsocialcare_contacts_start_date,\n",
    "cast(substring(ContactDate,7,4)||\"-\"||substring(ContactDate,4,2)||\"-\"|| substring(ContactDate,1,2)||\" 00:00:00\" as datetime)  as tbl_adultsocialcare_contacts_end_date,\n",
    "src.*\n",
    " FROM ', sourcedb,'.src_bmbc_AdultSocialCare_Contacts src\n",
    " left join ', demodb,' dem\n",
    "on src.digest = dem.digest ', sep = \"\") \n",
    "\n",
    "tb4 <- bq_project_query(project_id, sql4)\n",
    "\n",
    "fred <-paste(' contacts Completed ' ,Sys.time() + hours(1), sep = \"\")\n",
    "print (fred)\n",
    "\n"
   ]
  },
  {
   "cell_type": "code",
   "execution_count": 13,
   "id": "53a3f84e-a194-4092-ab64-dbad5b281759",
   "metadata": {},
   "outputs": [
    {
     "name": "stdout",
     "output_type": "stream",
     "text": [
      "[1] \" assessments Completed 2024-05-08 14:57:21.99169\"\n"
     ]
    }
   ],
   "source": [
    "sql3 <-paste('drop table if exists ', targetdb,'.tbl_adultsocialcare_assessments; ', sep = \"\") \n",
    "tb3 <- bq_project_query(project_id, sql3)\n",
    "\n",
    "sql4 <-paste('CREATE  TABLE ', targetdb,'.tbl_adultsocialcare_assessments\n",
    "as \n",
    "select \n",
    "dem.person_id,\n",
    "cast(substring(AssessmentDate,7,4)||\"-\"||substring(AssessmentDate,4,2)||\"-\"|| substring(AssessmentDate,1,2)||\" 00:00:00\" as datetime)  as  tbl_adultsocialcare_assessments_start_date,\n",
    "cast(substring(AssessmentDate,7,4)||\"-\"||substring(AssessmentDate,4,2)||\"-\"|| substring(AssessmentDate,1,2)||\" 00:00:00\" as datetime) as  tbl_adultsocialcare_assessments_end_date,\n",
    "src.*\n",
    " FROM ', sourcedb,'.src_bmbc_AdultSocialCare_Assessments src\n",
    " left join ', demodb,' dem\n",
    "on src.digest = dem.digest ', sep = \"\") \n",
    "\n",
    "tb4 <- bq_project_query(project_id, sql4)\n",
    "\n",
    "fred <-paste(' assessments Completed ' ,Sys.time() + hours(1), sep = \"\")\n",
    "print (fred)\n"
   ]
  },
  {
   "cell_type": "code",
   "execution_count": 15,
   "id": "3b0a6e21-1053-490d-a709-9ae0e133e22b",
   "metadata": {},
   "outputs": [
    {
     "name": "stdout",
     "output_type": "stream",
     "text": [
      "[1] \" services Completed 2024-05-08 15:04:37.903932\"\n"
     ]
    }
   ],
   "source": [
    "sql3 <-paste('drop table if exists ', targetdb,'.tbl_adultsocialcare_services; ', sep = \"\") \n",
    "tb3 <- bq_project_query(project_id, sql3)\n",
    "\n",
    "sql4 <-paste('CREATE  TABLE ', targetdb,'.tbl_adultsocialcare_services\n",
    "as \n",
    "select \n",
    "dem.person_id,\n",
    "cast(substring(ServicestartDate,7,4)||\"-\"||substring(ServicestartDate,4,2)||\"-\"|| substring(ServicestartDate,1,2)||\" 00:00:00\" as datetime) as   tbl_adultsocialcare_services_start_date,\n",
    "cast(substring(ServiceendDate,7,4)||\"-\"||substring(ServiceendDate,4,2)||\"-\"|| substring(ServiceendDate,1,2)||\" 00:00:00\" as datetime)  as  tbl_adultsocialcare_services_end_date,\n",
    "src.*\n",
    " FROM ', sourcedb,'.src_bmbc_AdultSocialCare_Services src\n",
    " left join ', demodb,' dem\n",
    "on src.digest = dem.digest ', sep = \"\") \n",
    "\n",
    "tb4 <- bq_project_query(project_id, sql4)\n",
    "\n",
    "fred <-paste(' services Completed ' ,Sys.time() + hours(1), sep = \"\")\n",
    "print (fred)"
   ]
  },
  {
   "cell_type": "code",
   "execution_count": null,
   "id": "883fbf68-013f-4502-9c25-c5a38e7dc432",
   "metadata": {},
   "outputs": [],
   "source": []
  }
 ],
 "metadata": {
  "environment": {
   "kernel": "ir",
   "name": "r-cpu.4-2.m110",
   "type": "gcloud",
   "uri": "gcr.io/deeplearning-platform-release/r-cpu.4-2:m110"
  },
  "kernelspec": {
   "display_name": "R",
   "language": "R",
   "name": "ir"
  },
  "language_info": {
   "codemirror_mode": "r",
   "file_extension": ".r",
   "mimetype": "text/x-r-source",
   "name": "R",
   "pygments_lexer": "r",
   "version": "4.3.1"
  }
 },
 "nbformat": 4,
 "nbformat_minor": 5
}
